{
 "cells": [
  {
   "cell_type": "markdown",
   "metadata": {
    "id": "eE0raob58DC0"
   },
   "source": [
    "## Menentukan Pertanyaan Bisnis"
   ]
  },
  {
   "cell_type": "markdown",
   "metadata": {
    "id": "GmQeQ5YF8DC0"
   },
   "source": [
    "- Pertanyaan 1 : Seberapa besar pengaruh perbedaan musim terhadap jumlah pelanggan bike sharing?\n",
    "- Pertanyaan 2 : Bagaimana pola penggunaan sepeda antara pengguna casual dan registered berdasarkan jam dalam sehari? Apakah ada perbedaan signifikan dalam pola pemakaian mereka?"
   ]
  },
  {
   "cell_type": "markdown",
   "metadata": {
    "id": "H9wADwK78DCz"
   },
   "source": [
    "# Proyek Analisis Data: Bike Sharing Database\n",
    "- **Nama:** Azza Wafiqurrohmah\n",
    "- **Email:** wafiqurrohmahazza@gmail.com\n",
    "- **ID Dicoding:** MC129D5X1966"
   ]
  },
  {
   "cell_type": "markdown",
   "metadata": {
    "id": "H-z4QGlO8DC1"
   },
   "source": [
    "## Import Semua Packages/Library yang Digunakan"
   ]
  },
  {
   "cell_type": "code",
   "execution_count": 26,
   "metadata": {
    "id": "FVYwaObI8DC1"
   },
   "outputs": [],
   "source": [
    "import pandas as pd\n",
    "import numpy as np\n",
    "import matplotlib.pyplot as plt"
   ]
  },
  {
   "cell_type": "markdown",
   "metadata": {
    "id": "h_Sh51Xy8DC1"
   },
   "source": [
    "## Data Wrangling"
   ]
  },
  {
   "cell_type": "markdown",
   "metadata": {
    "id": "sXU2GBYu8DC1"
   },
   "source": [
    "### Gathering Data"
   ]
  },
  {
   "cell_type": "code",
   "execution_count": 27,
   "metadata": {
    "id": "zjCBk1BI8DC1"
   },
   "outputs": [],
   "source": [
    "day_df = pd.read_csv('data/day.csv')\n",
    "hour_df = pd.read_csv('data/hour.csv')"
   ]
  },
  {
   "cell_type": "markdown",
   "metadata": {
    "id": "MMi6xGaDkbCi"
   },
   "source": [
    "**Insight:**\n",
    "- Terdapat pola musiman dalam penggunaan sepeda\n",
    "- Terlihat pengguna yg sudah terdaftar lebih mendominasi dibandingkan pengguna kasual"
   ]
  },
  {
   "cell_type": "markdown",
   "metadata": {
    "id": "FHSiqaZp8DC1"
   },
   "source": [
    "### Assessing Data"
   ]
  },
  {
   "cell_type": "code",
   "execution_count": 28,
   "metadata": {
    "id": "ax-3tEjc9Cj1"
   },
   "outputs": [
    {
     "name": "stdout",
     "output_type": "stream",
     "text": [
      "<class 'pandas.core.frame.DataFrame'>\n",
      "RangeIndex: 17379 entries, 0 to 17378\n",
      "Data columns (total 17 columns):\n",
      " #   Column      Non-Null Count  Dtype  \n",
      "---  ------      --------------  -----  \n",
      " 0   instant     17379 non-null  int64  \n",
      " 1   dteday      17379 non-null  object \n",
      " 2   season      17379 non-null  int64  \n",
      " 3   yr          17379 non-null  int64  \n",
      " 4   mnth        17379 non-null  int64  \n",
      " 5   hr          17379 non-null  int64  \n",
      " 6   holiday     17379 non-null  int64  \n",
      " 7   weekday     17379 non-null  int64  \n",
      " 8   workingday  17379 non-null  int64  \n",
      " 9   weathersit  17379 non-null  int64  \n",
      " 10  temp        17379 non-null  float64\n",
      " 11  atemp       17379 non-null  float64\n",
      " 12  hum         17379 non-null  float64\n",
      " 13  windspeed   17379 non-null  float64\n",
      " 14  casual      17379 non-null  int64  \n",
      " 15  registered  17379 non-null  int64  \n",
      " 16  cnt         17379 non-null  int64  \n",
      "dtypes: float64(4), int64(12), object(1)\n",
      "memory usage: 2.3+ MB\n"
     ]
    }
   ],
   "source": [
    "hour_df.info()"
   ]
  },
  {
   "cell_type": "code",
   "execution_count": 29,
   "metadata": {},
   "outputs": [
    {
     "data": {
      "text/html": [
       "<div>\n",
       "<style scoped>\n",
       "    .dataframe tbody tr th:only-of-type {\n",
       "        vertical-align: middle;\n",
       "    }\n",
       "\n",
       "    .dataframe tbody tr th {\n",
       "        vertical-align: top;\n",
       "    }\n",
       "\n",
       "    .dataframe thead th {\n",
       "        text-align: right;\n",
       "    }\n",
       "</style>\n",
       "<table border=\"1\" class=\"dataframe\">\n",
       "  <thead>\n",
       "    <tr style=\"text-align: right;\">\n",
       "      <th></th>\n",
       "      <th>instant</th>\n",
       "      <th>season</th>\n",
       "      <th>yr</th>\n",
       "      <th>mnth</th>\n",
       "      <th>holiday</th>\n",
       "      <th>weekday</th>\n",
       "      <th>workingday</th>\n",
       "      <th>weathersit</th>\n",
       "      <th>temp</th>\n",
       "      <th>atemp</th>\n",
       "      <th>hum</th>\n",
       "      <th>windspeed</th>\n",
       "      <th>casual</th>\n",
       "      <th>registered</th>\n",
       "      <th>cnt</th>\n",
       "    </tr>\n",
       "  </thead>\n",
       "  <tbody>\n",
       "    <tr>\n",
       "      <th>count</th>\n",
       "      <td>731</td>\n",
       "      <td>731</td>\n",
       "      <td>731</td>\n",
       "      <td>731</td>\n",
       "      <td>731</td>\n",
       "      <td>731</td>\n",
       "      <td>731</td>\n",
       "      <td>731</td>\n",
       "      <td>731</td>\n",
       "      <td>731</td>\n",
       "      <td>731</td>\n",
       "      <td>731</td>\n",
       "      <td>731</td>\n",
       "      <td>731</td>\n",
       "      <td>731</td>\n",
       "    </tr>\n",
       "    <tr>\n",
       "      <th>mean</th>\n",
       "      <td>366</td>\n",
       "      <td>2</td>\n",
       "      <td>1</td>\n",
       "      <td>7</td>\n",
       "      <td>0</td>\n",
       "      <td>3</td>\n",
       "      <td>1</td>\n",
       "      <td>1</td>\n",
       "      <td>0</td>\n",
       "      <td>0</td>\n",
       "      <td>1</td>\n",
       "      <td>0</td>\n",
       "      <td>848</td>\n",
       "      <td>3656</td>\n",
       "      <td>4504</td>\n",
       "    </tr>\n",
       "    <tr>\n",
       "      <th>std</th>\n",
       "      <td>211</td>\n",
       "      <td>1</td>\n",
       "      <td>1</td>\n",
       "      <td>3</td>\n",
       "      <td>0</td>\n",
       "      <td>2</td>\n",
       "      <td>0</td>\n",
       "      <td>1</td>\n",
       "      <td>0</td>\n",
       "      <td>0</td>\n",
       "      <td>0</td>\n",
       "      <td>0</td>\n",
       "      <td>687</td>\n",
       "      <td>1560</td>\n",
       "      <td>1937</td>\n",
       "    </tr>\n",
       "    <tr>\n",
       "      <th>min</th>\n",
       "      <td>1</td>\n",
       "      <td>1</td>\n",
       "      <td>0</td>\n",
       "      <td>1</td>\n",
       "      <td>0</td>\n",
       "      <td>0</td>\n",
       "      <td>0</td>\n",
       "      <td>1</td>\n",
       "      <td>0</td>\n",
       "      <td>0</td>\n",
       "      <td>0</td>\n",
       "      <td>0</td>\n",
       "      <td>2</td>\n",
       "      <td>20</td>\n",
       "      <td>22</td>\n",
       "    </tr>\n",
       "    <tr>\n",
       "      <th>25%</th>\n",
       "      <td>184</td>\n",
       "      <td>2</td>\n",
       "      <td>0</td>\n",
       "      <td>4</td>\n",
       "      <td>0</td>\n",
       "      <td>1</td>\n",
       "      <td>0</td>\n",
       "      <td>1</td>\n",
       "      <td>0</td>\n",
       "      <td>0</td>\n",
       "      <td>1</td>\n",
       "      <td>0</td>\n",
       "      <td>316</td>\n",
       "      <td>2497</td>\n",
       "      <td>3152</td>\n",
       "    </tr>\n",
       "    <tr>\n",
       "      <th>50%</th>\n",
       "      <td>366</td>\n",
       "      <td>3</td>\n",
       "      <td>1</td>\n",
       "      <td>7</td>\n",
       "      <td>0</td>\n",
       "      <td>3</td>\n",
       "      <td>1</td>\n",
       "      <td>1</td>\n",
       "      <td>0</td>\n",
       "      <td>0</td>\n",
       "      <td>1</td>\n",
       "      <td>0</td>\n",
       "      <td>713</td>\n",
       "      <td>3662</td>\n",
       "      <td>4548</td>\n",
       "    </tr>\n",
       "    <tr>\n",
       "      <th>75%</th>\n",
       "      <td>548</td>\n",
       "      <td>3</td>\n",
       "      <td>1</td>\n",
       "      <td>10</td>\n",
       "      <td>0</td>\n",
       "      <td>5</td>\n",
       "      <td>1</td>\n",
       "      <td>2</td>\n",
       "      <td>1</td>\n",
       "      <td>1</td>\n",
       "      <td>1</td>\n",
       "      <td>0</td>\n",
       "      <td>1096</td>\n",
       "      <td>4776</td>\n",
       "      <td>5956</td>\n",
       "    </tr>\n",
       "    <tr>\n",
       "      <th>max</th>\n",
       "      <td>731</td>\n",
       "      <td>4</td>\n",
       "      <td>1</td>\n",
       "      <td>12</td>\n",
       "      <td>1</td>\n",
       "      <td>6</td>\n",
       "      <td>1</td>\n",
       "      <td>3</td>\n",
       "      <td>1</td>\n",
       "      <td>1</td>\n",
       "      <td>1</td>\n",
       "      <td>1</td>\n",
       "      <td>3410</td>\n",
       "      <td>6946</td>\n",
       "      <td>8714</td>\n",
       "    </tr>\n",
       "  </tbody>\n",
       "</table>\n",
       "</div>"
      ],
      "text/plain": [
       "       instant  season  yr  mnth  holiday  weekday  workingday  weathersit  \\\n",
       "count      731     731 731   731      731      731         731         731   \n",
       "mean       366       2   1     7        0        3           1           1   \n",
       "std        211       1   1     3        0        2           0           1   \n",
       "min          1       1   0     1        0        0           0           1   \n",
       "25%        184       2   0     4        0        1           0           1   \n",
       "50%        366       3   1     7        0        3           1           1   \n",
       "75%        548       3   1    10        0        5           1           2   \n",
       "max        731       4   1    12        1        6           1           3   \n",
       "\n",
       "       temp  atemp  hum  windspeed  casual  registered  cnt  \n",
       "count   731    731  731        731     731         731  731  \n",
       "mean      0      0    1          0     848        3656 4504  \n",
       "std       0      0    0          0     687        1560 1937  \n",
       "min       0      0    0          0       2          20   22  \n",
       "25%       0      0    1          0     316        2497 3152  \n",
       "50%       0      0    1          0     713        3662 4548  \n",
       "75%       1      1    1          0    1096        4776 5956  \n",
       "max       1      1    1          1    3410        6946 8714  "
      ]
     },
     "execution_count": 29,
     "metadata": {},
     "output_type": "execute_result"
    }
   ],
   "source": [
    "pd.options.display.float_format = '{:.0f}'.format\n",
    "day_df.describe()"
   ]
  },
  {
   "cell_type": "code",
   "execution_count": 30,
   "metadata": {},
   "outputs": [
    {
     "data": {
      "text/html": [
       "<div>\n",
       "<style scoped>\n",
       "    .dataframe tbody tr th:only-of-type {\n",
       "        vertical-align: middle;\n",
       "    }\n",
       "\n",
       "    .dataframe tbody tr th {\n",
       "        vertical-align: top;\n",
       "    }\n",
       "\n",
       "    .dataframe thead th {\n",
       "        text-align: right;\n",
       "    }\n",
       "</style>\n",
       "<table border=\"1\" class=\"dataframe\">\n",
       "  <thead>\n",
       "    <tr style=\"text-align: right;\">\n",
       "      <th></th>\n",
       "      <th>instant</th>\n",
       "      <th>season</th>\n",
       "      <th>yr</th>\n",
       "      <th>mnth</th>\n",
       "      <th>hr</th>\n",
       "      <th>holiday</th>\n",
       "      <th>weekday</th>\n",
       "      <th>workingday</th>\n",
       "      <th>weathersit</th>\n",
       "      <th>temp</th>\n",
       "      <th>atemp</th>\n",
       "      <th>hum</th>\n",
       "      <th>windspeed</th>\n",
       "      <th>casual</th>\n",
       "      <th>registered</th>\n",
       "      <th>cnt</th>\n",
       "    </tr>\n",
       "  </thead>\n",
       "  <tbody>\n",
       "    <tr>\n",
       "      <th>count</th>\n",
       "      <td>17379</td>\n",
       "      <td>17379</td>\n",
       "      <td>17379</td>\n",
       "      <td>17379</td>\n",
       "      <td>17379</td>\n",
       "      <td>17379</td>\n",
       "      <td>17379</td>\n",
       "      <td>17379</td>\n",
       "      <td>17379</td>\n",
       "      <td>17379</td>\n",
       "      <td>17379</td>\n",
       "      <td>17379</td>\n",
       "      <td>17379</td>\n",
       "      <td>17379</td>\n",
       "      <td>17379</td>\n",
       "      <td>17379</td>\n",
       "    </tr>\n",
       "    <tr>\n",
       "      <th>mean</th>\n",
       "      <td>8690</td>\n",
       "      <td>3</td>\n",
       "      <td>1</td>\n",
       "      <td>7</td>\n",
       "      <td>12</td>\n",
       "      <td>0</td>\n",
       "      <td>3</td>\n",
       "      <td>1</td>\n",
       "      <td>1</td>\n",
       "      <td>0</td>\n",
       "      <td>0</td>\n",
       "      <td>1</td>\n",
       "      <td>0</td>\n",
       "      <td>36</td>\n",
       "      <td>154</td>\n",
       "      <td>189</td>\n",
       "    </tr>\n",
       "    <tr>\n",
       "      <th>std</th>\n",
       "      <td>5017</td>\n",
       "      <td>1</td>\n",
       "      <td>1</td>\n",
       "      <td>3</td>\n",
       "      <td>7</td>\n",
       "      <td>0</td>\n",
       "      <td>2</td>\n",
       "      <td>0</td>\n",
       "      <td>1</td>\n",
       "      <td>0</td>\n",
       "      <td>0</td>\n",
       "      <td>0</td>\n",
       "      <td>0</td>\n",
       "      <td>49</td>\n",
       "      <td>151</td>\n",
       "      <td>181</td>\n",
       "    </tr>\n",
       "    <tr>\n",
       "      <th>min</th>\n",
       "      <td>1</td>\n",
       "      <td>1</td>\n",
       "      <td>0</td>\n",
       "      <td>1</td>\n",
       "      <td>0</td>\n",
       "      <td>0</td>\n",
       "      <td>0</td>\n",
       "      <td>0</td>\n",
       "      <td>1</td>\n",
       "      <td>0</td>\n",
       "      <td>0</td>\n",
       "      <td>0</td>\n",
       "      <td>0</td>\n",
       "      <td>0</td>\n",
       "      <td>0</td>\n",
       "      <td>1</td>\n",
       "    </tr>\n",
       "    <tr>\n",
       "      <th>25%</th>\n",
       "      <td>4346</td>\n",
       "      <td>2</td>\n",
       "      <td>0</td>\n",
       "      <td>4</td>\n",
       "      <td>6</td>\n",
       "      <td>0</td>\n",
       "      <td>1</td>\n",
       "      <td>0</td>\n",
       "      <td>1</td>\n",
       "      <td>0</td>\n",
       "      <td>0</td>\n",
       "      <td>0</td>\n",
       "      <td>0</td>\n",
       "      <td>4</td>\n",
       "      <td>34</td>\n",
       "      <td>40</td>\n",
       "    </tr>\n",
       "    <tr>\n",
       "      <th>50%</th>\n",
       "      <td>8690</td>\n",
       "      <td>3</td>\n",
       "      <td>1</td>\n",
       "      <td>7</td>\n",
       "      <td>12</td>\n",
       "      <td>0</td>\n",
       "      <td>3</td>\n",
       "      <td>1</td>\n",
       "      <td>1</td>\n",
       "      <td>0</td>\n",
       "      <td>0</td>\n",
       "      <td>1</td>\n",
       "      <td>0</td>\n",
       "      <td>17</td>\n",
       "      <td>115</td>\n",
       "      <td>142</td>\n",
       "    </tr>\n",
       "    <tr>\n",
       "      <th>75%</th>\n",
       "      <td>13034</td>\n",
       "      <td>3</td>\n",
       "      <td>1</td>\n",
       "      <td>10</td>\n",
       "      <td>18</td>\n",
       "      <td>0</td>\n",
       "      <td>5</td>\n",
       "      <td>1</td>\n",
       "      <td>2</td>\n",
       "      <td>1</td>\n",
       "      <td>1</td>\n",
       "      <td>1</td>\n",
       "      <td>0</td>\n",
       "      <td>48</td>\n",
       "      <td>220</td>\n",
       "      <td>281</td>\n",
       "    </tr>\n",
       "    <tr>\n",
       "      <th>max</th>\n",
       "      <td>17379</td>\n",
       "      <td>4</td>\n",
       "      <td>1</td>\n",
       "      <td>12</td>\n",
       "      <td>23</td>\n",
       "      <td>1</td>\n",
       "      <td>6</td>\n",
       "      <td>1</td>\n",
       "      <td>4</td>\n",
       "      <td>1</td>\n",
       "      <td>1</td>\n",
       "      <td>1</td>\n",
       "      <td>1</td>\n",
       "      <td>367</td>\n",
       "      <td>886</td>\n",
       "      <td>977</td>\n",
       "    </tr>\n",
       "  </tbody>\n",
       "</table>\n",
       "</div>"
      ],
      "text/plain": [
       "       instant  season    yr  mnth    hr  holiday  weekday  workingday  \\\n",
       "count    17379   17379 17379 17379 17379    17379    17379       17379   \n",
       "mean      8690       3     1     7    12        0        3           1   \n",
       "std       5017       1     1     3     7        0        2           0   \n",
       "min          1       1     0     1     0        0        0           0   \n",
       "25%       4346       2     0     4     6        0        1           0   \n",
       "50%       8690       3     1     7    12        0        3           1   \n",
       "75%      13034       3     1    10    18        0        5           1   \n",
       "max      17379       4     1    12    23        1        6           1   \n",
       "\n",
       "       weathersit  temp  atemp   hum  windspeed  casual  registered   cnt  \n",
       "count       17379 17379  17379 17379      17379   17379       17379 17379  \n",
       "mean            1     0      0     1          0      36         154   189  \n",
       "std             1     0      0     0          0      49         151   181  \n",
       "min             1     0      0     0          0       0           0     1  \n",
       "25%             1     0      0     0          0       4          34    40  \n",
       "50%             1     0      0     1          0      17         115   142  \n",
       "75%             2     1      1     1          0      48         220   281  \n",
       "max             4     1      1     1          1     367         886   977  "
      ]
     },
     "execution_count": 30,
     "metadata": {},
     "output_type": "execute_result"
    }
   ],
   "source": [
    "hour_df.describe()"
   ]
  },
  {
   "cell_type": "code",
   "execution_count": 31,
   "metadata": {},
   "outputs": [
    {
     "data": {
      "text/plain": [
       "0"
      ]
     },
     "execution_count": 31,
     "metadata": {},
     "output_type": "execute_result"
    }
   ],
   "source": [
    "day_df.duplicated().sum()\n",
    "hour_df.duplicated().sum()"
   ]
  },
  {
   "cell_type": "markdown",
   "metadata": {
    "id": "7dtxhAPrkhPL"
   },
   "source": [
    "**Insight:**\n",
    "- data day_df ini memiliki sebanyak 731 entry data\n",
    "- seluruh data memiliki nilai non-null\n",
    "- namun sepertinya terdapat kesalahan dalam tipe data dari dteday, yg harusnya berupa datetime bukan object \n",
    "- data hour_df ini memiliki sebanyak 17379 entry data\n",
    "- seluruh data memiliki nilai non-null\n",
    "- sama seperti sebelumnya, terdapat kesalahan dalam tipe data dari dteday, yg harusnya berupa datetime bukan object \n",
    "- kedua data tersebut tidak memiliki duplikasi data"
   ]
  },
  {
   "cell_type": "markdown",
   "metadata": {
    "id": "EhN5R4hr8DC1"
   },
   "source": [
    "### Cleaning Data"
   ]
  },
  {
   "cell_type": "code",
   "execution_count": 32,
   "metadata": {
    "id": "jVnYpprE9Evz"
   },
   "outputs": [
    {
     "name": "stdout",
     "output_type": "stream",
     "text": [
      "<class 'pandas.core.frame.DataFrame'>\n",
      "RangeIndex: 731 entries, 0 to 730\n",
      "Data columns (total 16 columns):\n",
      " #   Column      Non-Null Count  Dtype         \n",
      "---  ------      --------------  -----         \n",
      " 0   instant     731 non-null    int64         \n",
      " 1   dteday      731 non-null    datetime64[ns]\n",
      " 2   season      731 non-null    int64         \n",
      " 3   yr          731 non-null    int64         \n",
      " 4   mnth        731 non-null    int64         \n",
      " 5   holiday     731 non-null    int64         \n",
      " 6   weekday     731 non-null    int64         \n",
      " 7   workingday  731 non-null    int64         \n",
      " 8   weathersit  731 non-null    int64         \n",
      " 9   temp        731 non-null    float64       \n",
      " 10  atemp       731 non-null    float64       \n",
      " 11  hum         731 non-null    float64       \n",
      " 12  windspeed   731 non-null    float64       \n",
      " 13  casual      731 non-null    int64         \n",
      " 14  registered  731 non-null    int64         \n",
      " 15  cnt         731 non-null    int64         \n",
      "dtypes: datetime64[ns](1), float64(4), int64(11)\n",
      "memory usage: 91.5 KB\n"
     ]
    }
   ],
   "source": [
    "day_df['dteday'] = pd.to_datetime(day_df['dteday'])\n",
    "hour_df['dteday'] = pd.to_datetime(hour_df['dteday'])\n",
    "day_df.info()"
   ]
  },
  {
   "cell_type": "code",
   "execution_count": 33,
   "metadata": {},
   "outputs": [],
   "source": [
    "df_list = [day_df, hour_df]\n",
    "for df in df_list: \n",
    "    df[\"season\"] = df[\"season\"].apply(lambda x: \"springer\" if x == 1 else (\"summer\" if x == 2 else (\"fall\" if x == 3 else \"winter\")))"
   ]
  },
  {
   "cell_type": "markdown",
   "metadata": {
    "id": "Q_5ejIqckiSP"
   },
   "source": [
    "**Insight:**\n",
    "- xxx\n",
    "- xxx"
   ]
  },
  {
   "cell_type": "markdown",
   "metadata": {
    "id": "gp-Y6wU38DC1"
   },
   "source": [
    "## Exploratory Data Analysis (EDA)"
   ]
  },
  {
   "cell_type": "markdown",
   "metadata": {
    "id": "MW7WF2kr8DC1"
   },
   "source": [
    "### Explore ..."
   ]
  },
  {
   "cell_type": "code",
   "execution_count": 34,
   "metadata": {
    "id": "e9CQCZjk8DC2"
   },
   "outputs": [
    {
     "data": {
      "text/html": [
       "<div>\n",
       "<style scoped>\n",
       "    .dataframe tbody tr th:only-of-type {\n",
       "        vertical-align: middle;\n",
       "    }\n",
       "\n",
       "    .dataframe tbody tr th {\n",
       "        vertical-align: top;\n",
       "    }\n",
       "\n",
       "    .dataframe thead tr th {\n",
       "        text-align: left;\n",
       "    }\n",
       "\n",
       "    .dataframe thead tr:last-of-type th {\n",
       "        text-align: right;\n",
       "    }\n",
       "</style>\n",
       "<table border=\"1\" class=\"dataframe\">\n",
       "  <thead>\n",
       "    <tr>\n",
       "      <th></th>\n",
       "      <th>cnt</th>\n",
       "    </tr>\n",
       "    <tr>\n",
       "      <th></th>\n",
       "      <th>mean</th>\n",
       "    </tr>\n",
       "    <tr>\n",
       "      <th>season</th>\n",
       "      <th></th>\n",
       "    </tr>\n",
       "  </thead>\n",
       "  <tbody>\n",
       "    <tr>\n",
       "      <th>fall</th>\n",
       "      <td>236</td>\n",
       "    </tr>\n",
       "    <tr>\n",
       "      <th>springer</th>\n",
       "      <td>111</td>\n",
       "    </tr>\n",
       "    <tr>\n",
       "      <th>summer</th>\n",
       "      <td>208</td>\n",
       "    </tr>\n",
       "    <tr>\n",
       "      <th>winter</th>\n",
       "      <td>199</td>\n",
       "    </tr>\n",
       "  </tbody>\n",
       "</table>\n",
       "</div>"
      ],
      "text/plain": [
       "          cnt\n",
       "         mean\n",
       "season       \n",
       "fall      236\n",
       "springer  111\n",
       "summer    208\n",
       "winter    199"
      ]
     },
     "execution_count": 34,
     "metadata": {},
     "output_type": "execute_result"
    }
   ],
   "source": [
    "hour_df.groupby('season').agg({\n",
    "    'cnt': ['mean']\n",
    "})"
   ]
  },
  {
   "cell_type": "markdown",
   "metadata": {
    "id": "th_Lzl2Fkj9O"
   },
   "source": [
    "**Insight:**\n",
    "- Rata-rata pelanggan cukup jauh, seperti pada musing spring yang memiliki rta2 hanya 111 pelanggan, sedangkan pada musim gugur pelanggan jauh lebih banyak dengan rata2 hinggan 236 pelanggan\n",
    "- Nilai maks dari smua musim hampir sama, artinya kemungkinan pada tiap musim itu memang terdapat beberapa hari dimana banyak pelanggan yang menggunakan bike sharing, bisa dikarekan hari libur, hari kerja, atau hal lainnya\n",
    "- Nilai min dari smua musim sama, yaitu hanya satu pelanggan. Artinya, disemua musim hampir dipastikan ada pelanggan yang menggunakan bike sharing, tidak mungkin tidak"
   ]
  },
  {
   "cell_type": "code",
   "execution_count": 35,
   "metadata": {},
   "outputs": [
    {
     "data": {
      "text/html": [
       "<div>\n",
       "<style scoped>\n",
       "    .dataframe tbody tr th:only-of-type {\n",
       "        vertical-align: middle;\n",
       "    }\n",
       "\n",
       "    .dataframe tbody tr th {\n",
       "        vertical-align: top;\n",
       "    }\n",
       "\n",
       "    .dataframe thead th {\n",
       "        text-align: right;\n",
       "    }\n",
       "</style>\n",
       "<table border=\"1\" class=\"dataframe\">\n",
       "  <thead>\n",
       "    <tr style=\"text-align: right;\">\n",
       "      <th></th>\n",
       "      <th>season_day</th>\n",
       "      <th>dteday</th>\n",
       "      <th>hour</th>\n",
       "      <th>casual_hour</th>\n",
       "      <th>registered_hour</th>\n",
       "      <th>count_hour</th>\n",
       "      <th>count_day</th>\n",
       "    </tr>\n",
       "  </thead>\n",
       "  <tbody>\n",
       "    <tr>\n",
       "      <th>0</th>\n",
       "      <td>springer</td>\n",
       "      <td>2011-01-01</td>\n",
       "      <td>0</td>\n",
       "      <td>3</td>\n",
       "      <td>13</td>\n",
       "      <td>16</td>\n",
       "      <td>985</td>\n",
       "    </tr>\n",
       "    <tr>\n",
       "      <th>1</th>\n",
       "      <td>springer</td>\n",
       "      <td>2011-01-01</td>\n",
       "      <td>1</td>\n",
       "      <td>8</td>\n",
       "      <td>32</td>\n",
       "      <td>40</td>\n",
       "      <td>985</td>\n",
       "    </tr>\n",
       "    <tr>\n",
       "      <th>2</th>\n",
       "      <td>springer</td>\n",
       "      <td>2011-01-01</td>\n",
       "      <td>2</td>\n",
       "      <td>5</td>\n",
       "      <td>27</td>\n",
       "      <td>32</td>\n",
       "      <td>985</td>\n",
       "    </tr>\n",
       "    <tr>\n",
       "      <th>3</th>\n",
       "      <td>springer</td>\n",
       "      <td>2011-01-01</td>\n",
       "      <td>3</td>\n",
       "      <td>3</td>\n",
       "      <td>10</td>\n",
       "      <td>13</td>\n",
       "      <td>985</td>\n",
       "    </tr>\n",
       "    <tr>\n",
       "      <th>4</th>\n",
       "      <td>springer</td>\n",
       "      <td>2011-01-01</td>\n",
       "      <td>4</td>\n",
       "      <td>0</td>\n",
       "      <td>1</td>\n",
       "      <td>1</td>\n",
       "      <td>985</td>\n",
       "    </tr>\n",
       "  </tbody>\n",
       "</table>\n",
       "</div>"
      ],
      "text/plain": [
       "  season_day     dteday  hour  casual_hour  registered_hour  count_hour  \\\n",
       "0   springer 2011-01-01     0            3               13          16   \n",
       "1   springer 2011-01-01     1            8               32          40   \n",
       "2   springer 2011-01-01     2            5               27          32   \n",
       "3   springer 2011-01-01     3            3               10          13   \n",
       "4   springer 2011-01-01     4            0                1           1   \n",
       "\n",
       "   count_day  \n",
       "0        985  \n",
       "1        985  \n",
       "2        985  \n",
       "3        985  \n",
       "4        985  "
      ]
     },
     "execution_count": 35,
     "metadata": {},
     "output_type": "execute_result"
    }
   ],
   "source": [
    "hour_in_days_df = pd.merge(\n",
    "    left=day_df,\n",
    "    right=hour_df,\n",
    "    how='left',\n",
    "    left_on=\"dteday\",\n",
    "    right_on=\"dteday\"\n",
    ")[['season_x', 'dteday', 'hr', 'casual_y', 'registered_y', 'cnt_y', 'cnt_x']]\n",
    "\n",
    "hour_in_days_df = hour_in_days_df.rename(columns={\n",
    "    'season_x': 'season_day',\n",
    "    'hr': 'hour',\n",
    "    'casual_y': 'casual_hour',\n",
    "    'registered_y': 'registered_hour',\n",
    "    'cnt_y': 'count_hour',\n",
    "    'cnt_x': 'count_day'\n",
    "})\n",
    "\n",
    "hour_in_days_df.head()"
   ]
  },
  {
   "cell_type": "markdown",
   "metadata": {},
   "source": [
    "**Alasan:**\n",
    "1. Menggabungkan day_df dan hour_df bertujuan untuk melihat pola penggunaan sepeda per jam dalam konteks total harian.\n",
    "2. alasan pilihan kolom:\n",
    "- season_x → Mengetahui pengaruh musim.\n",
    "- dteday → Sebagai kunci utama penggabungan.\n",
    "- hr → Melihat pola penggunaan tiap jam.\n",
    "- casual_y & registered_y → Membandingkan pengguna terdaftar dan tidak terdaftar.\n",
    "- cnt_y & cnt_x → Melihat kontribusi total penggunaan sepeda per jam terhadap total harian."
   ]
  },
  {
   "cell_type": "code",
   "execution_count": 36,
   "metadata": {},
   "outputs": [
    {
     "data": {
      "text/html": [
       "<div>\n",
       "<style scoped>\n",
       "    .dataframe tbody tr th:only-of-type {\n",
       "        vertical-align: middle;\n",
       "    }\n",
       "\n",
       "    .dataframe tbody tr th {\n",
       "        vertical-align: top;\n",
       "    }\n",
       "\n",
       "    .dataframe thead th {\n",
       "        text-align: right;\n",
       "    }\n",
       "</style>\n",
       "<table border=\"1\" class=\"dataframe\">\n",
       "  <thead>\n",
       "    <tr style=\"text-align: right;\">\n",
       "      <th></th>\n",
       "      <th>casual_hour</th>\n",
       "      <th>registered_hour</th>\n",
       "    </tr>\n",
       "    <tr>\n",
       "      <th>time_group</th>\n",
       "      <th></th>\n",
       "      <th></th>\n",
       "    </tr>\n",
       "  </thead>\n",
       "  <tbody>\n",
       "    <tr>\n",
       "      <th>01:00 - 02:59</th>\n",
       "      <td>8121</td>\n",
       "      <td>32395</td>\n",
       "    </tr>\n",
       "    <tr>\n",
       "      <th>03:00 - 04:59</th>\n",
       "      <td>2767</td>\n",
       "      <td>9835</td>\n",
       "    </tr>\n",
       "    <tr>\n",
       "      <th>05:00 - 06:59</th>\n",
       "      <td>4029</td>\n",
       "      <td>65364</td>\n",
       "    </tr>\n",
       "    <tr>\n",
       "      <th>07:00 - 08:59</th>\n",
       "      <td>23798</td>\n",
       "      <td>391374</td>\n",
       "    </tr>\n",
       "    <tr>\n",
       "      <th>09:00 - 10:59</th>\n",
       "      <td>56247</td>\n",
       "      <td>229448</td>\n",
       "    </tr>\n",
       "    <tr>\n",
       "      <th>11:00 - 12:59</th>\n",
       "      <td>93004</td>\n",
       "      <td>242730</td>\n",
       "    </tr>\n",
       "    <tr>\n",
       "      <th>13:00 - 14:59</th>\n",
       "      <td>107802</td>\n",
       "      <td>252769</td>\n",
       "    </tr>\n",
       "    <tr>\n",
       "      <th>15:00 - 16:59</th>\n",
       "      <td>108440</td>\n",
       "      <td>302457</td>\n",
       "    </tr>\n",
       "    <tr>\n",
       "      <th>17:00 - 18:59</th>\n",
       "      <td>98716</td>\n",
       "      <td>547916</td>\n",
       "    </tr>\n",
       "    <tr>\n",
       "      <th>19:00 - 20:59</th>\n",
       "      <td>61883</td>\n",
       "      <td>329456</td>\n",
       "    </tr>\n",
       "    <tr>\n",
       "      <th>21:00 - 22:59</th>\n",
       "      <td>36770</td>\n",
       "      <td>184287</td>\n",
       "    </tr>\n",
       "    <tr>\n",
       "      <th>23:00 - 24:59</th>\n",
       "      <td>11065</td>\n",
       "      <td>52876</td>\n",
       "    </tr>\n",
       "  </tbody>\n",
       "</table>\n",
       "</div>"
      ],
      "text/plain": [
       "               casual_hour  registered_hour\n",
       "time_group                                 \n",
       "01:00 - 02:59         8121            32395\n",
       "03:00 - 04:59         2767             9835\n",
       "05:00 - 06:59         4029            65364\n",
       "07:00 - 08:59        23798           391374\n",
       "09:00 - 10:59        56247           229448\n",
       "11:00 - 12:59        93004           242730\n",
       "13:00 - 14:59       107802           252769\n",
       "15:00 - 16:59       108440           302457\n",
       "17:00 - 18:59        98716           547916\n",
       "19:00 - 20:59        61883           329456\n",
       "21:00 - 22:59        36770           184287\n",
       "23:00 - 24:59        11065            52876"
      ]
     },
     "execution_count": 36,
     "metadata": {},
     "output_type": "execute_result"
    }
   ],
   "source": [
    "bins = list(range(1, 25, 2)) + [25]\n",
    "labels = [f\"{i:02d}:00 - {i+1:02d}:59\" for i in range(1, 24, 2)]\n",
    "\n",
    "hour_in_days_df[\"time_group\"] = pd.cut(hour_in_days_df[\"hour\"], bins=bins, labels=labels, right=False)\n",
    "hour_in_days_df.groupby('time_group', observed=False)[['casual_hour', 'registered_hour']].sum()"
   ]
  },
  {
   "cell_type": "markdown",
   "metadata": {},
   "source": [
    "**Insight:**\n",
    "1. Pengguna casual lebih aktif di siang hingga sore hari (09:00 - 16:59).\n",
    "2. Pengguna registered mendominasi di hampir semua jam, terutama di pagi dan sore/malam (07:00 - 08:59 & 17:00 20:59), yang kemungkinan besar terkait dengan jam kerja.\n",
    "3. Perbedaan paling signifikan terlihat di siang hari (11:00 - 16:59), di mana jumlah pengguna casual meningkat lebih tajam dibandingkan registered."
   ]
  },
  {
   "cell_type": "markdown",
   "metadata": {
    "id": "zsyZjqak8DC2"
   },
   "source": [
    "## Visualization & Explanatory Analysis"
   ]
  },
  {
   "cell_type": "markdown",
   "metadata": {
    "id": "HZxOiQ6n8DC2"
   },
   "source": [
    "### Pertanyaan 1:"
   ]
  },
  {
   "cell_type": "code",
   "execution_count": 37,
   "metadata": {
    "id": "1swJUdAD8DC2"
   },
   "outputs": [
    {
     "data": {
      "image/png": "[encoded data removed]",
      "text/plain": [
       "<Figure size 700x400 with 1 Axes>"
      ]
     },
     "metadata": {},
     "output_type": "display_data"
    }
   ],
   "source": [
    "season_df = hour_df.groupby('season')['cnt'].mean()\n",
    "season_df = season_df.squeeze()\n",
    "\n",
    "season_labels = ['Spring', 'Summer', 'Fall', 'Winter']\n",
    "colors = ['#77DD77', '#FFB347', '#FF6961', '#AEC6CF']\n",
    "\n",
    "fig, ax = plt.subplots(figsize=(7,4))\n",
    "bars = ax.bar(season_labels, season_df.values, color=colors)\n",
    "\n",
    "plt.title(\"Pengaruh Musim terhadap Jumlah Pelanggan Bike Sharing\", fontsize=12, fontweight='bold')\n",
    "plt.ylabel(\"Jumlah Pengguna\", fontsize=10)\n",
    "plt.xlabel(\"Musim\", fontsize=10)\n",
    "\n",
    "plt.grid(axis='y', linestyle='--', alpha=0.7)\n",
    "ax.bar_label(bars, fmt='%.0f', fontsize=10, fontweight='bold')\n",
    "\n",
    "plt.show()"
   ]
  },
  {
   "cell_type": "markdown",
   "metadata": {
    "id": "DgHI7CiU8DC2"
   },
   "source": [
    "### Pertanyaan 2:"
   ]
  },
  {
   "cell_type": "code",
   "execution_count": 38,
   "metadata": {
    "id": "Go0lCsvO8DC2"
   },
   "outputs": [
    {
     "name": "stderr",
     "output_type": "stream",
     "text": [
      "/tmp/ipykernel_9984/3189895294.py:1: FutureWarning: The default of observed=False is deprecated and will be changed to True in a future version of pandas. Pass observed=False to retain current behavior or observed=True to adopt the future default and silence this warning.\n",
      "  grouped_df = hour_in_days_df.groupby(\"time_group\")[[\"casual_hour\", \"registered_hour\"]].sum()\n"
     ]
    },
    {
     "data": {
      "image/png": "[encoded data removed]",
      "text/plain": [
       "<Figure size 1000x500 with 1 Axes>"
      ]
     },
     "metadata": {},
     "output_type": "display_data"
    }
   ],
   "source": [
    "grouped_df = hour_in_days_df.groupby(\"time_group\")[[\"casual_hour\", \"registered_hour\"]].sum()\n",
    "\n",
    "plt.figure(figsize=(10, 5))\n",
    "plt.plot(grouped_df.index, grouped_df['casual_hour'], marker='o', linestyle='-', label='Casual', color='blue')\n",
    "plt.plot(grouped_df.index, grouped_df['registered_hour'], marker='s', linestyle='-', label='Registered', color='red')\n",
    "\n",
    "plt.title(\"Perbandingan Pengguna Casual vs Registered Berdasarkan Waktu\", fontsize=12)\n",
    "plt.xlabel(\"Time Group\", fontsize=10)\n",
    "plt.ylabel(\"Jumlah Pengguna\", fontsize=10)\n",
    "plt.xticks(rotation=45)\n",
    "plt.legend()\n",
    "plt.grid(True)\n",
    "plt.show()"
   ]
  },
  {
   "cell_type": "markdown",
   "metadata": {
    "id": "_0-36BDLklRg"
   },
   "source": [
    "**Insight:**\n",
    "- pertanyaan 1 :\n",
    "1. musim panas memiliki rata-rata pelanggan tertinggi, berarti cuaca yang lebih cerah membuat orang lebih banyak bersepeda pada musim ini\n",
    "2. musim dingin memiliki rata-rata paling rendah, berarti faktor cuaca seperti hujan, dingin, atau salju sangat mempengaruhi penggunaan sepeda.\n",
    "\n",
    "- pertanyaan 2 :\n",
    "1. Pengguna registered mulai meningkat sejak pagi hari dan mencapai puncaknya pada jam 07:00 - 08:59, yang kemungkinan besar berkaitan dengan jam berangkat kerja atau sekolah.\n",
    "2. selain itu, pada saat sore hari, pengguna registered juga mengalami lonjakan yg cukup tinggi, hal ini sesuai dengan jam pulang kerja\n",
    "3. pengguna registered cenderung mendominasi pada tiap jam ditiap harinya\n",
    "4. Pengguna casual mencapai jumlah tertinggi pada jam 13:00 - 14:59, kemungkinan karena banyak orang menggunakan sepeda untuk rekreasi atau aktivitas santai di jam istirahat siang."
   ]
  },
  {
   "cell_type": "code",
   "execution_count": 39,
   "metadata": {},
   "outputs": [],
   "source": [
    "hour_in_days_df.to_csv(\"dashboard/main_data.csv\", index=False)"
   ]
  },
  {
   "cell_type": "markdown",
   "metadata": {
    "id": "9y4VUsmcYNZ5"
   },
   "source": [
    "## Analisis Lanjutan (Opsional)"
   ]
  },
  {
   "cell_type": "code",
   "execution_count": null,
   "metadata": {
    "id": "iWhnzsJGYUCO"
   },
   "outputs": [],
   "source": []
  },
  {
   "cell_type": "markdown",
   "metadata": {
    "id": "_WeHlCeX8DC2"
   },
   "source": [
    "## Conclusion"
   ]
  },
  {
   "cell_type": "markdown",
   "metadata": {
    "id": "ZTcyR48Y8DC2"
   },
   "source": [
    "- Conclution pertanyaan 1\n",
    "- Conclution pertanyaan 2"
   ]
  }
 ],
 "metadata": {
  "colab": {
   "provenance": []
  },
  "kernelspec": {
   "display_name": "base",
   "language": "python",
   "name": "python3"
  },
  "language_info": {
   "codemirror_mode": {
    "name": "ipython",
    "version": 3
   },
   "file_extension": ".py",
   "mimetype": "text/x-python",
   "name": "python",
   "nbconvert_exporter": "python",
   "pygments_lexer": "ipython3",
   "version": "3.12.7"
  },
  "orig_nbformat": 4
 },
 "nbformat": 4,
 "nbformat_minor": 0
}
